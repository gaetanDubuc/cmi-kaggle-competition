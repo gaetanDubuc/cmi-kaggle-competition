{
 "cells": [
  {
   "cell_type": "markdown",
   "id": "c00d4f21",
   "metadata": {},
   "source": [
    "# CMI – Detect Behavior with Sensor Data\n",
    "Exploratory Data Analysis (EDA) starter notebook.\n",
    "\n",
    "This notebook shows how to download, load and take a first look at the competition data."
   ]
  },
  {
   "cell_type": "markdown",
   "id": "9d47fb3d",
   "metadata": {},
   "source": [
    "## 1. Setup & Data Download\n",
    "This notebook expects that you have **Kaggle API** credentials set as environment variables `KAGGLE_USERNAME` and `KAGGLE_KEY`. If you are running inside a Kaggle Notebook these are already configured. Otherwise, uncomment the cell below and add your credentials."
   ]
  },
  {
   "cell_type": "code",
   "execution_count": null,
   "id": "e6e2ce5e",
   "metadata": {},
   "outputs": [],
   "source": [
    "\n",
    "# Uncomment and fill in your credentials if running locally:\n",
    "# import os\n",
    "# os.environ['KAGGLE_USERNAME'] = \"YOUR_USERNAME\"\n",
    "# os.environ['KAGGLE_KEY'] = \"YOUR_KEY\"\n",
    "\n",
    "!pip -q install kaggle -U\n",
    "!kaggle competitions download -c cmi-detect-behavior-with-sensor-data -p ./data -q\n"
   ]
  },
  {
   "cell_type": "code",
   "execution_count": null,
   "id": "a68b5176",
   "metadata": {},
   "outputs": [],
   "source": [
    "\n",
    "# Extract all downloaded zip files\n",
    "import zipfile, glob, pathlib, warnings\n",
    "warnings.filterwarnings('ignore')\n",
    "\n",
    "data_dir = pathlib.Path('./data')\n",
    "data_dir.mkdir(exist_ok=True)\n",
    "for zip_path in data_dir.glob('*.zip'):\n",
    "    with zipfile.ZipFile(zip_path, 'r') as z:\n",
    "        z.extractall(data_dir)\n",
    "    zip_path.unlink()  # remove the zip after extraction\n",
    "print('Extraction finished. Sample files:', list(data_dir.iterdir())[:10])\n"
   ]
  },
  {
   "cell_type": "markdown",
   "id": "0f23b2f9",
   "metadata": {},
   "source": [
    "## 2. Libraries"
   ]
  },
  {
   "cell_type": "code",
   "execution_count": null,
   "id": "49ce46a4",
   "metadata": {},
   "outputs": [],
   "source": [
    "\n",
    "import pandas as pd\n",
    "import numpy as np\n",
    "import matplotlib.pyplot as plt\n",
    "import seaborn as sns\n",
    "\n",
    "pd.set_option('display.max_columns', None)\n",
    "plt.rcParams['figure.figsize'] = (10, 6)\n",
    "sns.set_style('whitegrid')\n"
   ]
  },
  {
   "cell_type": "markdown",
   "id": "8efa7ed9",
   "metadata": {},
   "source": [
    "## 3. Load tabular data"
   ]
  },
  {
   "cell_type": "code",
   "execution_count": null,
   "id": "870fb097",
   "metadata": {},
   "outputs": [],
   "source": [
    "\n",
    "# Common file names in this competition\n",
    "possible_files = [\n",
    "    'train.csv',\n",
    "    'train_series.parquet',\n",
    "    'train_events.csv',\n",
    "    'train_meta.csv',\n",
    "    'test.csv',\n",
    "    'sample_submission.csv'\n",
    "]\n",
    "\n",
    "available = [f for f in possible_files if (data_dir/f).exists()]\n",
    "print('Detected files:', available)\n",
    "\n",
    "dfs = {}\n",
    "for fname in available:\n",
    "    path = data_dir / fname\n",
    "    if fname.endswith('.csv'):\n",
    "        dfs[fname] = pd.read_csv(path)\n",
    "    elif fname.endswith('.parquet'):\n",
    "        dfs[fname] = pd.read_parquet(path)\n",
    "    print(f'{fname}:', dfs[fname].shape)\n"
   ]
  },
  {
   "cell_type": "markdown",
   "id": "20c99da9",
   "metadata": {},
   "source": [
    "## 4. Quick inspection"
   ]
  },
  {
   "cell_type": "code",
   "execution_count": null,
   "id": "8ddc0f2c",
   "metadata": {},
   "outputs": [],
   "source": [
    "\n",
    "for name, df in dfs.items():\n",
    "    print(f\"\\n{'#'*40}\\n{name}\")\n",
    "    display(df.head())\n",
    "    print(df.info())\n",
    "    display(df.describe(include='all').T)\n"
   ]
  },
  {
   "cell_type": "markdown",
   "id": "696b01b7",
   "metadata": {},
   "source": [
    "## 5. Label distribution"
   ]
  },
  {
   "cell_type": "code",
   "execution_count": null,
   "id": "f71ad7c7",
   "metadata": {},
   "outputs": [],
   "source": [
    "\n",
    "label_candidates = ['behavior_id', 'event', 'label', 'target', 'class']\n",
    "for name, df in dfs.items():\n",
    "    for col in label_candidates:\n",
    "        if col in df.columns:\n",
    "            df[col].value_counts().sort_index().plot(kind='bar')\n",
    "            plt.title(f'{col} distribution in {name}')\n",
    "            plt.show()\n"
   ]
  },
  {
   "cell_type": "markdown",
   "id": "1539e6cb",
   "metadata": {},
   "source": [
    "## 6. Time‑series visualisation"
   ]
  },
  {
   "cell_type": "code",
   "execution_count": null,
   "id": "d3c67bc4",
   "metadata": {},
   "outputs": [],
   "source": [
    "\n",
    "if 'train_series.parquet' in dfs:\n",
    "    series_df = dfs['train_series.parquet']\n",
    "    # pick the first series\n",
    "    first_series_id = series_df['series_id'].iloc[0]\n",
    "    subset = series_df[series_df['series_id'] == first_series_id]\n",
    "    sensor_cols = [c for c in subset.columns if c not in ['series_id', 'step']]\n",
    "    subset.set_index('step')[sensor_cols[:4]].plot(subplots=True, sharex=True,\n",
    "                                                   title=f'Sensor signals for series {first_series_id}')\n",
    "    plt.tight_layout()\n",
    "    plt.show()\n"
   ]
  },
  {
   "cell_type": "markdown",
   "id": "472bb7fb",
   "metadata": {},
   "source": [
    "## 7. Missing values"
   ]
  },
  {
   "cell_type": "code",
   "execution_count": null,
   "id": "6341c31b",
   "metadata": {},
   "outputs": [],
   "source": [
    "\n",
    "!pip -q install missingno\n",
    "import missingno as msno\n",
    "for name, df in dfs.items():\n",
    "    msno.matrix(df.sample(min(1000, len(df))), fontsize=8)\n",
    "    plt.title(f'Missing value pattern — {name}')\n",
    "    plt.show()\n"
   ]
  },
  {
   "cell_type": "markdown",
   "id": "ad13d414",
   "metadata": {},
   "source": [
    "## 8. Correlation analysis"
   ]
  },
  {
   "cell_type": "code",
   "execution_count": null,
   "id": "08c7bac6",
   "metadata": {},
   "outputs": [],
   "source": [
    "\n",
    "for name, df in dfs.items():\n",
    "    numeric_cols = df.select_dtypes(include=[np.number]).columns\n",
    "    if len(numeric_cols) > 1:\n",
    "        corr = df[numeric_cols].corr()\n",
    "        sns.heatmap(corr, center=0, square=True)\n",
    "        plt.title(f'Correlation matrix for {name}')\n",
    "        plt.show()\n"
   ]
  },
  {
   "cell_type": "markdown",
   "id": "4adefd65",
   "metadata": {},
   "source": [
    "---\n",
    "\n",
    "### Next steps\n",
    "* Engineer windowed features (mean, std, skew, etc.)\n",
    "* Build cross‑validation splits by `subject_id` or `series_id`.\n",
    "* Implement baseline models (gradient boosting, CNNs, transformers).\n",
    "* Optimise the custom metric used in the leaderboard."
   ]
  }
 ],
 "metadata": {},
 "nbformat": 4,
 "nbformat_minor": 5
}
